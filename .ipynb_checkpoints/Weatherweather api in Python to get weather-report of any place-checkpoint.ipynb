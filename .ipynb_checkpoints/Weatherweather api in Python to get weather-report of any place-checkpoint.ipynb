{
 "cells": [
  {
   "cell_type": "code",
   "execution_count": null,
   "id": "c102e60b",
   "metadata": {},
   "outputs": [],
   "source": [
    "import requests"
   ]
  },
  {
   "cell_type": "code",
   "execution_count": null,
   "id": "005befe7",
   "metadata": {},
   "outputs": [],
   "source": [
    "# API endpoint for getting current weather data for a city\n",
    "url = \"https://api.openweathermap.org/data/2.5/weather\""
   ]
  },
  {
   "cell_type": "code",
   "execution_count": null,
   "id": "96b37056",
   "metadata": {},
   "outputs": [],
   "source": [
    "# API key (you'll need to sign up for an OpenWeatherMap account and get an API key)\n",
    "api_key = \"your_api_key_here\""
   ]
  },
  {
   "cell_type": "code",
   "execution_count": null,
   "id": "f61327d8",
   "metadata": {},
   "outputs": [],
   "source": [
    "# City name for which you want to get the weather data\n",
    "city_name = \"London\""
   ]
  },
  {
   "cell_type": "code",
   "execution_count": null,
   "id": "727a9507",
   "metadata": {},
   "outputs": [],
   "source": [
    "# Query parameters for the API request\n",
    "params = {\n",
    "    \"q\": city_name,\n",
    "    \"appid\": api_key,\n",
    "}"
   ]
  },
  {
   "cell_type": "code",
   "execution_count": null,
   "id": "149bc721",
   "metadata": {},
   "outputs": [],
   "source": [
    "# Send a GET request to the API endpoint with the query parameters\n",
    "response = requests.get(url, params=params)"
   ]
  },
  {
   "cell_type": "code",
   "execution_count": null,
   "id": "70f6bf0d",
   "metadata": {},
   "outputs": [],
   "source": [
    "# Print the HTTP status code (should be 200 if the request was successful)\n",
    "print(response.status_code)"
   ]
  },
  {
   "cell_type": "code",
   "execution_count": null,
   "id": "5c4f0c6c",
   "metadata": {},
   "outputs": [],
   "source": [
    "# Print the response content (should be a JSON string containing the weather data)\n",
    "print(response.text)"
   ]
  },
  {
   "cell_type": "code",
   "execution_count": null,
   "id": "a3cc611f",
   "metadata": {},
   "outputs": [],
   "source": [
    "import requests\n",
    "import json"
   ]
  },
  {
   "cell_type": "code",
   "execution_count": null,
   "id": "51d6a435",
   "metadata": {},
   "outputs": [],
   "source": [
    "# API endpoint for getting current weather data for a city\n",
    "url = \"https://api.openweathermap.org/data/2.5/weather\""
   ]
  },
  {
   "cell_type": "code",
   "execution_count": null,
   "id": "e6cbba3c",
   "metadata": {},
   "outputs": [],
   "source": [
    "# API key (you'll need to sign up for an OpenWeatherMap account and get an API key)\n",
    "api_key = \"your_api_key_here\""
   ]
  },
  {
   "cell_type": "code",
   "execution_count": null,
   "id": "d8d246ef",
   "metadata": {},
   "outputs": [],
   "source": [
    "# City name for which you want to get the weather data\n",
    "city_name = \"London\""
   ]
  },
  {
   "cell_type": "code",
   "execution_count": null,
   "id": "3722d50d",
   "metadata": {},
   "outputs": [],
   "source": [
    "# Query parameters for the API request\n",
    "params = {\n",
    "    \"q\": city_name,\n",
    "    \"appid\": api_key,\n",
    "}"
   ]
  },
  {
   "cell_type": "code",
   "execution_count": null,
   "id": "54a979ca",
   "metadata": {},
   "outputs": [],
   "source": [
    "# Send a GET request to the API endpoint with the query parameters\n",
    "response = requests.get(url, params=params)"
   ]
  },
  {
   "cell_type": "code",
   "execution_count": null,
   "id": "643028f9",
   "metadata": {},
   "outputs": [],
   "source": [
    "# Parse the JSON response\n",
    "data = json.loads(response.text)"
   ]
  },
  {
   "cell_type": "code",
   "execution_count": null,
   "id": "2460cec9",
   "metadata": {},
   "outputs": [],
   "source": [
    "# Extract some weather data\n",
    "temperature = data[\"main\"][\"temp\"]\n",
    "humidity = data[\"main\"][\"humidity\"]\n",
    "description = data[\"weather\"][0][\"description\"]"
   ]
  },
  {
   "cell_type": "code",
   "execution_count": null,
   "id": "cd5c30ec",
   "metadata": {},
   "outputs": [],
   "source": [
    "# Print the weather data\n",
    "print(\"Temperature: {:.2f}°C\".format(temperature - 273.15))  # Convert from Kelvin to Celsius\n",
    "print(\"Humidity: {}%\".format(humidity))\n",
    "print(\"Description: {}\".format(description))"
   ]
  },
  {
   "cell_type": "code",
   "execution_count": null,
   "id": "e2824c87",
   "metadata": {},
   "outputs": [],
   "source": [
    "import requests\n",
    "import json"
   ]
  },
  {
   "cell_type": "code",
   "execution_count": null,
   "id": "70e0c6b0",
   "metadata": {},
   "outputs": [],
   "source": [
    "# Prompt the user to enter a city name\n",
    "city = input(\"Enter city name: \")"
   ]
  },
  {
   "cell_type": "code",
   "execution_count": null,
   "id": "34255117",
   "metadata": {},
   "outputs": [],
   "source": [
    "# Construct the API URL\n",
    "url = \"https://api.openweathermap.org/data/2.5/weather?q={}&appid=6cd3a73c0a168e08b609d092bda6e053>\".format(city)"
   ]
  },
  {
   "cell_type": "code",
   "execution_count": null,
   "id": "720783f7",
   "metadata": {},
   "outputs": [],
   "source": [
    "# Send a GET request to the API and store the response\n",
    "response = requests.get(url)"
   ]
  },
  {
   "cell_type": "code",
   "execution_count": null,
   "id": "004b5c5f",
   "metadata": {},
   "outputs": [],
   "source": [
    "# Parse the JSON response\n",
    "data = json.loads(response.text)"
   ]
  },
  {
   "cell_type": "code",
   "execution_count": null,
   "id": "2a18b226",
   "metadata": {},
   "outputs": [],
   "source": [
    "# Extract the relevant information from the response\n",
    "description = data[\"weather\"][0][\"description\"]\n",
    "temperature = data[\"main\"][\"temp\"]\n",
    "humidity = data[\"main\"][\"humidity\"]"
   ]
  },
  {
   "cell_type": "code",
   "execution_count": null,
   "id": "c26c1e61",
   "metadata": {},
   "outputs": [],
   "source": [
    "# Print the weather report\n",
    "print(\"Weather report for {}: {} (temperature: {}, humidity: {})\".format(city, description, temperature, humidity))"
   ]
  },
  {
   "cell_type": "code",
   "execution_count": null,
   "id": "006388b4",
   "metadata": {},
   "outputs": [],
   "source": []
  }
 ],
 "metadata": {
  "kernelspec": {
   "display_name": "Python 3 (ipykernel)",
   "language": "python",
   "name": "python3"
  },
  "language_info": {
   "codemirror_mode": {
    "name": "ipython",
    "version": 3
   },
   "file_extension": ".py",
   "mimetype": "text/x-python",
   "name": "python",
   "nbconvert_exporter": "python",
   "pygments_lexer": "ipython3",
   "version": "3.9.13"
  }
 },
 "nbformat": 4,
 "nbformat_minor": 5
}
